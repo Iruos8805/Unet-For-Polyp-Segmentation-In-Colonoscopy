{
 "cells": [
  {
   "cell_type": "markdown",
   "metadata": {},
   "source": [
    "# This is the final set of sweep parameters using Weights & Biases (WandB). Parameters with minimal impact or infrequent use were removed based on results from previous sweeps."
   ]
  },
  {
   "cell_type": "code",
   "execution_count": null,
   "metadata": {},
   "outputs": [],
   "source": [
    "import wandb\n",
    "\n",
    "wandb.login()"
   ]
  },
  {
   "cell_type": "code",
   "execution_count": null,
   "metadata": {},
   "outputs": [],
   "source": [
    "import wandb\n",
    "import torch\n",
    "import torch.nn as nn\n",
    "import torch.optim as optim\n",
    "from torch.utils.data import DataLoader\n",
    "from sklearn.model_selection import train_test_split\n",
    "import segmentation_models_pytorch as smp\n",
    "from glob import glob\n",
    "\n",
    "\n",
    "def train():\n",
    "    wandb.init()\n",
    "    config = wandb.config\n",
    "\n",
    "    device = torch.device(\"cuda\" if torch.cuda.is_available() else \"cpu\")\n",
    "\n",
    "    X_train, X_test, y_train, y_test = train_test_split(image_paths, mask_paths, test_size=0.2, random_state=42)\n",
    "    X_train, X_val, y_train, y_val = train_test_split(X_train, y_train, test_size=0.1, random_state=42)\n",
    "\n",
    "\n",
    "\n",
    "    train_dataset = CustomDataset(X_train, y_train, transform=train_transform)\n",
    "    val_dataset = CustomDataset(X_val, y_val, transform=val_transform)\n",
    "\n",
    "    # train_dataset = CustomDataset(X_train, y_train)\n",
    "    # val_dataset = CustomDataset(X_val, y_val)\n",
    "\n",
    "    train_loader = DataLoader(train_dataset, batch_size=config.batch_size, shuffle=True, pin_memory=True)\n",
    "    val_loader = DataLoader(val_dataset, batch_size=config.batch_size, shuffle=False, pin_memory=True)\n",
    "\n",
    "\n",
    "    model = smp.Unet(\n",
    "        encoder_name=config.encoder_name,\n",
    "        encoder_weights=config.encoder_weights,\n",
    "        in_channels=3,\n",
    "        classes=1\n",
    "    ).to(device)\n",
    "\n",
    "\n",
    "    if config.optimizer == \"Adam\":\n",
    "        optimizer = optim.Adam(model.parameters(), lr=config.learning_rate)\n",
    "    elif config.optimizer == \"AdamW\":\n",
    "        optimizer = optim.AdamW(model.parameters(), lr=config.learning_rate)\n",
    "\n",
    "\n",
    "    criterion = smp.losses.DiceLoss(mode=\"binary\")\n",
    "\n",
    "    for epoch in range(11):\n",
    "        model.train()\n",
    "        total_loss = 0\n",
    "\n",
    "        for batch_features, batch_labels in train_loader:\n",
    "            batch_features, batch_labels = batch_features.to(device), batch_labels.to(device)\n",
    "\n",
    "            optimizer.zero_grad()\n",
    "            outputs = model(batch_features)\n",
    "            outputs = torch.sigmoid(outputs)\n",
    "\n",
    "            loss = criterion(outputs, batch_labels)\n",
    "            loss.backward()\n",
    "            optimizer.step()\n",
    "\n",
    "            total_loss += loss.item()\n",
    "\n",
    "        avg_loss = total_loss / len(train_loader)\n",
    "\n",
    "        model.eval()\n",
    "        val_loss = 0\n",
    "\n",
    "\n",
    "        with torch.no_grad():\n",
    "            for batch_features, batch_labels in val_loader:\n",
    "                batch_features, batch_labels = batch_features.to(device), batch_labels.to(device)\n",
    "\n",
    "                outputs = model(batch_features)\n",
    "                outputs = torch.sigmoid(outputs)\n",
    "\n",
    "                loss = criterion(outputs, batch_labels)\n",
    "                val_loss += loss.item()\n",
    "\n",
    "        avg_val_loss = val_loss / len(val_loader)\n",
    "\n",
    "        print(f\"Epoch {epoch+1} | Train Loss: {avg_loss:.4f} | Val Loss: {avg_val_loss:.4f}\")\n",
    "\n",
    "        wandb.log({\n",
    "            \"epoch\": epoch,\n",
    "            \"train_loss\": avg_loss,\n",
    "            \"val_loss\": avg_val_loss,\n",
    "        })\n"
   ]
  },
  {
   "cell_type": "code",
   "execution_count": null,
   "metadata": {},
   "outputs": [],
   "source": [
    "sweep_config = {\n",
    "    'method': 'bayes',\n",
    "    'metric': {'name': 'dice_loss', 'goal': 'minimize'},\n",
    "    'parameters': {\n",
    "        # 'epochs' : {'min':10, 'max': 30},\n",
    "        'learning_rate': {'min': 0.00009, 'max': 0.001,},\n",
    "        'batch_size': {'values': [4, 8, 16]},\n",
    "        'optimizer': {'values': [\"Adam\", \"AdamW\"]},\n",
    "        'encoder_name': {'values': [\"efficientnet-b4\", \"resnet18\"]},\n",
    "        'encoder_weights': {'values': [\"imagenet\"]},\n",
    "        # 'loss_function': \"DiceLoss\",\n",
    "        # 'threshold': {'min': 0.3, 'max': 0.7},\n",
    "        'model_architecture': {'values': [\"Unet\"]}\n",
    "    }\n",
    "}\n",
    "\n",
    "sweep_id = wandb.sweep(sweep_config, project=\"colon-polyp-segmentation-3\")\n",
    "wandb.agent(sweep_id, function=train,count = 5)\n"
   ]
  },
  {
   "cell_type": "markdown",
   "metadata": {},
   "source": [
    "# GRAPHS : TRAINING VS LOSS & VALIDATING VS LOSS"
   ]
  },
  {
   "cell_type": "markdown",
   "metadata": {},
   "source": [
    "![image](./WANDB_graph.png)"
   ]
  },
  {
   "cell_type": "markdown",
   "metadata": {},
   "source": [
    "# TABLE : PARAMETERS AND SWEEPS"
   ]
  },
  {
   "cell_type": "markdown",
   "metadata": {},
   "source": [
    "![image](./WANDB_table.png)"
   ]
  }
 ],
 "metadata": {
  "language_info": {
   "name": "python"
  }
 },
 "nbformat": 4,
 "nbformat_minor": 2
}
