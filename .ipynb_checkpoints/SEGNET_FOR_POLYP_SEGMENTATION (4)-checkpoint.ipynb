{
 "cells": [
  {
   "cell_type": "code",
   "execution_count": 23,
   "metadata": {
    "colab": {
     "base_uri": "https://localhost:8080/"
    },
    "id": "OTCdh7FE2I2L",
    "outputId": "9c3de12a-ba61-4b63-dc5a-5fc8dc87dcb3"
   },
   "outputs": [
    {
     "name": "stdout",
     "output_type": "stream",
     "text": [
      "Requirement already satisfied: segmentation-models-pytorch[all] in /usr/local/lib/python3.11/dist-packages (0.5.0)\n",
      "\u001b[33mWARNING: segmentation-models-pytorch 0.5.0 does not provide the extra 'all'\u001b[0m\u001b[33m\n",
      "\u001b[0mRequirement already satisfied: huggingface-hub>=0.24 in /usr/local/lib/python3.11/dist-packages (from segmentation-models-pytorch[all]) (0.31.2)\n",
      "Requirement already satisfied: numpy>=1.19.3 in /usr/local/lib/python3.11/dist-packages (from segmentation-models-pytorch[all]) (2.0.2)\n",
      "Requirement already satisfied: pillow>=8 in /usr/local/lib/python3.11/dist-packages (from segmentation-models-pytorch[all]) (11.2.1)\n",
      "Requirement already satisfied: safetensors>=0.3.1 in /usr/local/lib/python3.11/dist-packages (from segmentation-models-pytorch[all]) (0.5.3)\n",
      "Requirement already satisfied: timm>=0.9 in /usr/local/lib/python3.11/dist-packages (from segmentation-models-pytorch[all]) (1.0.15)\n",
      "Requirement already satisfied: torch>=1.8 in /usr/local/lib/python3.11/dist-packages (from segmentation-models-pytorch[all]) (2.6.0+cu124)\n",
      "Requirement already satisfied: torchvision>=0.9 in /usr/local/lib/python3.11/dist-packages (from segmentation-models-pytorch[all]) (0.21.0+cu124)\n",
      "Requirement already satisfied: tqdm>=4.42.1 in /usr/local/lib/python3.11/dist-packages (from segmentation-models-pytorch[all]) (4.67.1)\n",
      "Requirement already satisfied: filelock in /usr/local/lib/python3.11/dist-packages (from huggingface-hub>=0.24->segmentation-models-pytorch[all]) (3.18.0)\n",
      "Requirement already satisfied: fsspec>=2023.5.0 in /usr/local/lib/python3.11/dist-packages (from huggingface-hub>=0.24->segmentation-models-pytorch[all]) (2025.3.2)\n",
      "Requirement already satisfied: packaging>=20.9 in /usr/local/lib/python3.11/dist-packages (from huggingface-hub>=0.24->segmentation-models-pytorch[all]) (24.2)\n",
      "Requirement already satisfied: pyyaml>=5.1 in /usr/local/lib/python3.11/dist-packages (from huggingface-hub>=0.24->segmentation-models-pytorch[all]) (6.0.2)\n",
      "Requirement already satisfied: requests in /usr/local/lib/python3.11/dist-packages (from huggingface-hub>=0.24->segmentation-models-pytorch[all]) (2.32.3)\n",
      "Requirement already satisfied: typing-extensions>=3.7.4.3 in /usr/local/lib/python3.11/dist-packages (from huggingface-hub>=0.24->segmentation-models-pytorch[all]) (4.13.2)\n",
      "Requirement already satisfied: networkx in /usr/local/lib/python3.11/dist-packages (from torch>=1.8->segmentation-models-pytorch[all]) (3.4.2)\n",
      "Requirement already satisfied: jinja2 in /usr/local/lib/python3.11/dist-packages (from torch>=1.8->segmentation-models-pytorch[all]) (3.1.6)\n",
      "Requirement already satisfied: nvidia-cuda-nvrtc-cu12==12.4.127 in /usr/local/lib/python3.11/dist-packages (from torch>=1.8->segmentation-models-pytorch[all]) (12.4.127)\n",
      "Requirement already satisfied: nvidia-cuda-runtime-cu12==12.4.127 in /usr/local/lib/python3.11/dist-packages (from torch>=1.8->segmentation-models-pytorch[all]) (12.4.127)\n",
      "Requirement already satisfied: nvidia-cuda-cupti-cu12==12.4.127 in /usr/local/lib/python3.11/dist-packages (from torch>=1.8->segmentation-models-pytorch[all]) (12.4.127)\n",
      "Requirement already satisfied: nvidia-cudnn-cu12==9.1.0.70 in /usr/local/lib/python3.11/dist-packages (from torch>=1.8->segmentation-models-pytorch[all]) (9.1.0.70)\n",
      "Requirement already satisfied: nvidia-cublas-cu12==12.4.5.8 in /usr/local/lib/python3.11/dist-packages (from torch>=1.8->segmentation-models-pytorch[all]) (12.4.5.8)\n",
      "Requirement already satisfied: nvidia-cufft-cu12==11.2.1.3 in /usr/local/lib/python3.11/dist-packages (from torch>=1.8->segmentation-models-pytorch[all]) (11.2.1.3)\n",
      "Requirement already satisfied: nvidia-curand-cu12==10.3.5.147 in /usr/local/lib/python3.11/dist-packages (from torch>=1.8->segmentation-models-pytorch[all]) (10.3.5.147)\n",
      "Requirement already satisfied: nvidia-cusolver-cu12==11.6.1.9 in /usr/local/lib/python3.11/dist-packages (from torch>=1.8->segmentation-models-pytorch[all]) (11.6.1.9)\n",
      "Requirement already satisfied: nvidia-cusparse-cu12==12.3.1.170 in /usr/local/lib/python3.11/dist-packages (from torch>=1.8->segmentation-models-pytorch[all]) (12.3.1.170)\n",
      "Requirement already satisfied: nvidia-cusparselt-cu12==0.6.2 in /usr/local/lib/python3.11/dist-packages (from torch>=1.8->segmentation-models-pytorch[all]) (0.6.2)\n",
      "Requirement already satisfied: nvidia-nccl-cu12==2.21.5 in /usr/local/lib/python3.11/dist-packages (from torch>=1.8->segmentation-models-pytorch[all]) (2.21.5)\n",
      "Requirement already satisfied: nvidia-nvtx-cu12==12.4.127 in /usr/local/lib/python3.11/dist-packages (from torch>=1.8->segmentation-models-pytorch[all]) (12.4.127)\n",
      "Requirement already satisfied: nvidia-nvjitlink-cu12==12.4.127 in /usr/local/lib/python3.11/dist-packages (from torch>=1.8->segmentation-models-pytorch[all]) (12.4.127)\n",
      "Requirement already satisfied: triton==3.2.0 in /usr/local/lib/python3.11/dist-packages (from torch>=1.8->segmentation-models-pytorch[all]) (3.2.0)\n",
      "Requirement already satisfied: sympy==1.13.1 in /usr/local/lib/python3.11/dist-packages (from torch>=1.8->segmentation-models-pytorch[all]) (1.13.1)\n",
      "Requirement already satisfied: mpmath<1.4,>=1.1.0 in /usr/local/lib/python3.11/dist-packages (from sympy==1.13.1->torch>=1.8->segmentation-models-pytorch[all]) (1.3.0)\n",
      "Requirement already satisfied: MarkupSafe>=2.0 in /usr/local/lib/python3.11/dist-packages (from jinja2->torch>=1.8->segmentation-models-pytorch[all]) (3.0.2)\n",
      "Requirement already satisfied: charset-normalizer<4,>=2 in /usr/local/lib/python3.11/dist-packages (from requests->huggingface-hub>=0.24->segmentation-models-pytorch[all]) (3.4.2)\n",
      "Requirement already satisfied: idna<4,>=2.5 in /usr/local/lib/python3.11/dist-packages (from requests->huggingface-hub>=0.24->segmentation-models-pytorch[all]) (3.10)\n",
      "Requirement already satisfied: urllib3<3,>=1.21.1 in /usr/local/lib/python3.11/dist-packages (from requests->huggingface-hub>=0.24->segmentation-models-pytorch[all]) (2.4.0)\n",
      "Requirement already satisfied: certifi>=2017.4.17 in /usr/local/lib/python3.11/dist-packages (from requests->huggingface-hub>=0.24->segmentation-models-pytorch[all]) (2025.4.26)\n"
     ]
    }
   ],
   "source": [
    "!pip install segmentation-models-pytorch[all]\n"
   ]
  },
  {
   "cell_type": "code",
   "execution_count": 24,
   "metadata": {
    "colab": {
     "base_uri": "https://localhost:8080/"
    },
    "id": "gqZ_CGaGsSZi",
    "outputId": "436c39bb-32d2-4007-eb9e-8076cb5cccb1"
   },
   "outputs": [
    {
     "name": "stdout",
     "output_type": "stream",
     "text": [
      "Requirement already satisfied: albumentations in /usr/local/lib/python3.11/dist-packages (2.0.6)\n",
      "Requirement already satisfied: numpy>=1.24.4 in /usr/local/lib/python3.11/dist-packages (from albumentations) (2.0.2)\n",
      "Requirement already satisfied: scipy>=1.10.0 in /usr/local/lib/python3.11/dist-packages (from albumentations) (1.15.3)\n",
      "Requirement already satisfied: PyYAML in /usr/local/lib/python3.11/dist-packages (from albumentations) (6.0.2)\n",
      "Requirement already satisfied: pydantic>=2.9.2 in /usr/local/lib/python3.11/dist-packages (from albumentations) (2.11.4)\n",
      "Requirement already satisfied: albucore==0.0.24 in /usr/local/lib/python3.11/dist-packages (from albumentations) (0.0.24)\n",
      "Requirement already satisfied: opencv-python-headless>=4.9.0.80 in /usr/local/lib/python3.11/dist-packages (from albumentations) (4.11.0.86)\n",
      "Requirement already satisfied: stringzilla>=3.10.4 in /usr/local/lib/python3.11/dist-packages (from albucore==0.0.24->albumentations) (3.12.5)\n",
      "Requirement already satisfied: simsimd>=5.9.2 in /usr/local/lib/python3.11/dist-packages (from albucore==0.0.24->albumentations) (6.2.1)\n",
      "Requirement already satisfied: annotated-types>=0.6.0 in /usr/local/lib/python3.11/dist-packages (from pydantic>=2.9.2->albumentations) (0.7.0)\n",
      "Requirement already satisfied: pydantic-core==2.33.2 in /usr/local/lib/python3.11/dist-packages (from pydantic>=2.9.2->albumentations) (2.33.2)\n",
      "Requirement already satisfied: typing-extensions>=4.12.2 in /usr/local/lib/python3.11/dist-packages (from pydantic>=2.9.2->albumentations) (4.13.2)\n",
      "Requirement already satisfied: typing-inspection>=0.4.0 in /usr/local/lib/python3.11/dist-packages (from pydantic>=2.9.2->albumentations) (0.4.0)\n"
     ]
    }
   ],
   "source": [
    "!pip install albumentations\n"
   ]
  },
  {
   "cell_type": "code",
   "execution_count": 25,
   "metadata": {
    "colab": {
     "base_uri": "https://localhost:8080/"
    },
    "id": "HH-L827V_P5o",
    "outputId": "b583c542-b16c-4e0e-84a8-294749c1ca47"
   },
   "outputs": [
    {
     "name": "stdout",
     "output_type": "stream",
     "text": [
      "Using device: cuda\n"
     ]
    }
   ],
   "source": [
    "import torch\n",
    "device = torch.device('cuda' if torch.cuda.is_available() else 'cpu')\n",
    "print(f\"Using device: {device}\")"
   ]
  },
  {
   "cell_type": "code",
   "execution_count": 26,
   "metadata": {
    "colab": {
     "base_uri": "https://localhost:8080/"
    },
    "id": "DReCaJAgBUOd",
    "outputId": "1def951d-fb13-4386-d21b-3fe35db08aac"
   },
   "outputs": [
    {
     "name": "stdout",
     "output_type": "stream",
     "text": [
      "Requirement already satisfied: wandb in /usr/local/lib/python3.11/dist-packages (0.19.11)\n",
      "Requirement already satisfied: click!=8.0.0,>=7.1 in /usr/local/lib/python3.11/dist-packages (from wandb) (8.2.0)\n",
      "Requirement already satisfied: docker-pycreds>=0.4.0 in /usr/local/lib/python3.11/dist-packages (from wandb) (0.4.0)\n",
      "Requirement already satisfied: gitpython!=3.1.29,>=1.0.0 in /usr/local/lib/python3.11/dist-packages (from wandb) (3.1.44)\n",
      "Requirement already satisfied: platformdirs in /usr/local/lib/python3.11/dist-packages (from wandb) (4.3.8)\n",
      "Requirement already satisfied: protobuf!=4.21.0,!=5.28.0,<7,>=3.19.0 in /usr/local/lib/python3.11/dist-packages (from wandb) (5.29.4)\n",
      "Requirement already satisfied: psutil>=5.0.0 in /usr/local/lib/python3.11/dist-packages (from wandb) (5.9.5)\n",
      "Requirement already satisfied: pydantic<3 in /usr/local/lib/python3.11/dist-packages (from wandb) (2.11.4)\n",
      "Requirement already satisfied: pyyaml in /usr/local/lib/python3.11/dist-packages (from wandb) (6.0.2)\n",
      "Requirement already satisfied: requests<3,>=2.0.0 in /usr/local/lib/python3.11/dist-packages (from wandb) (2.32.3)\n",
      "Requirement already satisfied: sentry-sdk>=2.0.0 in /usr/local/lib/python3.11/dist-packages (from wandb) (2.28.0)\n",
      "Requirement already satisfied: setproctitle in /usr/local/lib/python3.11/dist-packages (from wandb) (1.3.6)\n",
      "Requirement already satisfied: setuptools in /usr/local/lib/python3.11/dist-packages (from wandb) (75.2.0)\n",
      "Requirement already satisfied: typing-extensions<5,>=4.4 in /usr/local/lib/python3.11/dist-packages (from wandb) (4.13.2)\n",
      "Requirement already satisfied: six>=1.4.0 in /usr/local/lib/python3.11/dist-packages (from docker-pycreds>=0.4.0->wandb) (1.17.0)\n",
      "Requirement already satisfied: gitdb<5,>=4.0.1 in /usr/local/lib/python3.11/dist-packages (from gitpython!=3.1.29,>=1.0.0->wandb) (4.0.12)\n",
      "Requirement already satisfied: annotated-types>=0.6.0 in /usr/local/lib/python3.11/dist-packages (from pydantic<3->wandb) (0.7.0)\n",
      "Requirement already satisfied: pydantic-core==2.33.2 in /usr/local/lib/python3.11/dist-packages (from pydantic<3->wandb) (2.33.2)\n",
      "Requirement already satisfied: typing-inspection>=0.4.0 in /usr/local/lib/python3.11/dist-packages (from pydantic<3->wandb) (0.4.0)\n",
      "Requirement already satisfied: charset-normalizer<4,>=2 in /usr/local/lib/python3.11/dist-packages (from requests<3,>=2.0.0->wandb) (3.4.2)\n",
      "Requirement already satisfied: idna<4,>=2.5 in /usr/local/lib/python3.11/dist-packages (from requests<3,>=2.0.0->wandb) (3.10)\n",
      "Requirement already satisfied: urllib3<3,>=1.21.1 in /usr/local/lib/python3.11/dist-packages (from requests<3,>=2.0.0->wandb) (2.4.0)\n",
      "Requirement already satisfied: certifi>=2017.4.17 in /usr/local/lib/python3.11/dist-packages (from requests<3,>=2.0.0->wandb) (2025.4.26)\n",
      "Requirement already satisfied: smmap<6,>=3.0.1 in /usr/local/lib/python3.11/dist-packages (from gitdb<5,>=4.0.1->gitpython!=3.1.29,>=1.0.0->wandb) (5.0.2)\n"
     ]
    }
   ],
   "source": [
    "!pip install wandb --upgrade"
   ]
  },
  {
   "cell_type": "code",
   "execution_count": 27,
   "metadata": {
    "colab": {
     "base_uri": "https://localhost:8080/"
    },
    "id": "ZJQEYhQSBUzh",
    "outputId": "2a6a041f-6d4f-48e2-f2e3-f94c3bdc628c"
   },
   "outputs": [
    {
     "data": {
      "text/plain": [
       "True"
      ]
     },
     "execution_count": 27,
     "metadata": {},
     "output_type": "execute_result"
    }
   ],
   "source": [
    "import wandb\n",
    "\n",
    "wandb.login()"
   ]
  },
  {
   "cell_type": "code",
   "execution_count": 28,
   "metadata": {
    "id": "nbYQRZjfn-bN"
   },
   "outputs": [],
   "source": [
    "data_dir = '/content/drive/MyDrive/MEDAI/Kvasir-SEG/'"
   ]
  },
  {
   "cell_type": "code",
   "execution_count": 29,
   "metadata": {
    "id": "tJdRsgPjoR6Z"
   },
   "outputs": [],
   "source": [
    "X_folder = data_dir + 'images'\n",
    "Y_folder = data_dir + 'masks'"
   ]
  },
  {
   "cell_type": "code",
   "execution_count": 30,
   "metadata": {
    "id": "3SZsZfSLorxo"
   },
   "outputs": [],
   "source": [
    "import os\n",
    "import numpy as np\n",
    "from PIL import Image\n",
    "from sklearn.model_selection import train_test_split\n",
    "from torch.utils.data import Dataset, DataLoader\n",
    "\n",
    "import torch.nn as nn\n",
    "\n",
    "\n",
    "all_in = [f for f in os.listdir(X_folder) if f.endswith(('.png', '.jpg', '.jpeg'))]\n",
    "all_out = [f for f in os.listdir(Y_folder) if f.endswith(('.png', '.jpg', '.jpeg'))]\n"
   ]
  },
  {
   "cell_type": "code",
   "execution_count": 31,
   "metadata": {
    "id": "HlQrYWbPtRqB"
   },
   "outputs": [],
   "source": [
    "\n",
    "# Get full paths (assuming matching order and names)\n",
    "image_paths = [os.path.join(X_folder, f) for f in all_in]\n",
    "mask_paths = [os.path.join(Y_folder, f) for f in all_out]\n",
    "\n",
    "\n",
    "# # Train-test split on file paths, NOT on loaded images\n",
    "# X_train, X_test, y_train, y_test = train_test_split(image_paths, mask_paths, test_size=0.2, random_state=42)\n",
    "\n"
   ]
  },
  {
   "cell_type": "code",
   "execution_count": 32,
   "metadata": {
    "id": "XWmsuTUktZX3"
   },
   "outputs": [],
   "source": [
    "import albumentations as A\n",
    "from albumentations.pytorch import ToTensorV2\n",
    "\n",
    "# For training\n",
    "train_transform = A.Compose([\n",
    "    A.Resize(320, 320),\n",
    "    A.HorizontalFlip(p=0.5),\n",
    "    A.VerticalFlip(p=0.5),\n",
    "    A.Normalize(),\n",
    "    ToTensorV2()\n",
    "])\n",
    "\n",
    "# For testing/validation\n",
    "val_transform = A.Compose([\n",
    "    A.Resize(320, 320),\n",
    "    A.Normalize(),\n",
    "    ToTensorV2()\n",
    "])\n"
   ]
  },
  {
   "cell_type": "code",
   "execution_count": 33,
   "metadata": {
    "id": "Ltjfq3OataHe"
   },
   "outputs": [],
   "source": [
    "class CustomDataset(Dataset):\n",
    "    def __init__(self, image_paths, mask_paths, transform=None):\n",
    "        self.image_paths = image_paths\n",
    "        self.mask_paths = mask_paths\n",
    "        self.transform = transform\n",
    "\n",
    "    def __len__(self):\n",
    "        return len(self.image_paths)\n",
    "\n",
    "    def __getitem__(self, idx):\n",
    "        image = np.array(Image.open(self.image_paths[idx]).convert('RGB'))\n",
    "        mask = np.array(Image.open(self.mask_paths[idx]).convert('L'))\n",
    "\n",
    "        if self.transform:\n",
    "            augmented = self.transform(image=image, mask=mask)\n",
    "            image = augmented['image']\n",
    "            mask = augmented['mask'].unsqueeze(0).float() / 255.0\n",
    "        else:\n",
    "            image = torch.tensor(image, dtype=torch.float32).permute(2, 0, 1) / 255.0\n",
    "            mask = torch.tensor(mask, dtype=torch.float32).unsqueeze(0) / 255.0\n",
    "\n",
    "        return image, mask\n"
   ]
  },
  {
   "cell_type": "code",
   "execution_count": 34,
   "metadata": {
    "id": "RM7-Lk95aJ59"
   },
   "outputs": [],
   "source": [
    "# class CustomDataset(Dataset):\n",
    "#     def __init__(self, image_paths, mask_paths):\n",
    "#         self.image_paths = image_paths\n",
    "#         self.mask_paths = mask_paths\n",
    "\n",
    "#     def __len__(self):\n",
    "#         return len(self.image_paths)\n",
    "\n",
    "#     def __getitem__(self, idx):\n",
    "#         image = Image.open(self.image_paths[idx]).convert('RGB').resize((320, 320))\n",
    "#         mask = Image.open(self.mask_paths[idx]).convert('L').resize((320, 320))\n",
    "\n",
    "#         image = torch.tensor(np.array(image), dtype=torch.float32).permute(2, 0, 1) / 255.0\n",
    "#         mask = torch.tensor(np.array(mask), dtype=torch.float32).unsqueeze(0) / 255.0\n",
    "\n",
    "#         return image, mask\n"
   ]
  },
  {
   "cell_type": "code",
   "execution_count": 35,
   "metadata": {
    "colab": {
     "base_uri": "https://localhost:8080/"
    },
    "id": "RMOp65JBxhyW",
    "outputId": "a26bcac8-1f17-4c85-885b-a19a16b2fec3"
   },
   "outputs": [
    {
     "name": "stdout",
     "output_type": "stream",
     "text": [
      "Requirement already satisfied: torchmetrics in /usr/local/lib/python3.11/dist-packages (1.7.1)\n",
      "Requirement already satisfied: numpy>1.20.0 in /usr/local/lib/python3.11/dist-packages (from torchmetrics) (2.0.2)\n",
      "Requirement already satisfied: packaging>17.1 in /usr/local/lib/python3.11/dist-packages (from torchmetrics) (24.2)\n",
      "Requirement already satisfied: torch>=2.0.0 in /usr/local/lib/python3.11/dist-packages (from torchmetrics) (2.6.0+cu124)\n",
      "Requirement already satisfied: lightning-utilities>=0.8.0 in /usr/local/lib/python3.11/dist-packages (from torchmetrics) (0.14.3)\n",
      "Requirement already satisfied: setuptools in /usr/local/lib/python3.11/dist-packages (from lightning-utilities>=0.8.0->torchmetrics) (75.2.0)\n",
      "Requirement already satisfied: typing_extensions in /usr/local/lib/python3.11/dist-packages (from lightning-utilities>=0.8.0->torchmetrics) (4.13.2)\n",
      "Requirement already satisfied: filelock in /usr/local/lib/python3.11/dist-packages (from torch>=2.0.0->torchmetrics) (3.18.0)\n",
      "Requirement already satisfied: networkx in /usr/local/lib/python3.11/dist-packages (from torch>=2.0.0->torchmetrics) (3.4.2)\n",
      "Requirement already satisfied: jinja2 in /usr/local/lib/python3.11/dist-packages (from torch>=2.0.0->torchmetrics) (3.1.6)\n",
      "Requirement already satisfied: fsspec in /usr/local/lib/python3.11/dist-packages (from torch>=2.0.0->torchmetrics) (2025.3.2)\n",
      "Requirement already satisfied: nvidia-cuda-nvrtc-cu12==12.4.127 in /usr/local/lib/python3.11/dist-packages (from torch>=2.0.0->torchmetrics) (12.4.127)\n",
      "Requirement already satisfied: nvidia-cuda-runtime-cu12==12.4.127 in /usr/local/lib/python3.11/dist-packages (from torch>=2.0.0->torchmetrics) (12.4.127)\n",
      "Requirement already satisfied: nvidia-cuda-cupti-cu12==12.4.127 in /usr/local/lib/python3.11/dist-packages (from torch>=2.0.0->torchmetrics) (12.4.127)\n",
      "Requirement already satisfied: nvidia-cudnn-cu12==9.1.0.70 in /usr/local/lib/python3.11/dist-packages (from torch>=2.0.0->torchmetrics) (9.1.0.70)\n",
      "Requirement already satisfied: nvidia-cublas-cu12==12.4.5.8 in /usr/local/lib/python3.11/dist-packages (from torch>=2.0.0->torchmetrics) (12.4.5.8)\n",
      "Requirement already satisfied: nvidia-cufft-cu12==11.2.1.3 in /usr/local/lib/python3.11/dist-packages (from torch>=2.0.0->torchmetrics) (11.2.1.3)\n",
      "Requirement already satisfied: nvidia-curand-cu12==10.3.5.147 in /usr/local/lib/python3.11/dist-packages (from torch>=2.0.0->torchmetrics) (10.3.5.147)\n",
      "Requirement already satisfied: nvidia-cusolver-cu12==11.6.1.9 in /usr/local/lib/python3.11/dist-packages (from torch>=2.0.0->torchmetrics) (11.6.1.9)\n",
      "Requirement already satisfied: nvidia-cusparse-cu12==12.3.1.170 in /usr/local/lib/python3.11/dist-packages (from torch>=2.0.0->torchmetrics) (12.3.1.170)\n",
      "Requirement already satisfied: nvidia-cusparselt-cu12==0.6.2 in /usr/local/lib/python3.11/dist-packages (from torch>=2.0.0->torchmetrics) (0.6.2)\n",
      "Requirement already satisfied: nvidia-nccl-cu12==2.21.5 in /usr/local/lib/python3.11/dist-packages (from torch>=2.0.0->torchmetrics) (2.21.5)\n",
      "Requirement already satisfied: nvidia-nvtx-cu12==12.4.127 in /usr/local/lib/python3.11/dist-packages (from torch>=2.0.0->torchmetrics) (12.4.127)\n",
      "Requirement already satisfied: nvidia-nvjitlink-cu12==12.4.127 in /usr/local/lib/python3.11/dist-packages (from torch>=2.0.0->torchmetrics) (12.4.127)\n",
      "Requirement already satisfied: triton==3.2.0 in /usr/local/lib/python3.11/dist-packages (from torch>=2.0.0->torchmetrics) (3.2.0)\n",
      "Requirement already satisfied: sympy==1.13.1 in /usr/local/lib/python3.11/dist-packages (from torch>=2.0.0->torchmetrics) (1.13.1)\n",
      "Requirement already satisfied: mpmath<1.4,>=1.1.0 in /usr/local/lib/python3.11/dist-packages (from sympy==1.13.1->torch>=2.0.0->torchmetrics) (1.3.0)\n",
      "Requirement already satisfied: MarkupSafe>=2.0 in /usr/local/lib/python3.11/dist-packages (from jinja2->torch>=2.0.0->torchmetrics) (3.0.2)\n"
     ]
    }
   ],
   "source": [
    "!pip install torchmetrics"
   ]
  },
  {
   "cell_type": "markdown",
   "metadata": {
    "id": "lUl0psTLUzU3"
   },
   "source": [
    "TRAINING AND VALIDATING WITH WANDB"
   ]
  },
  {
   "cell_type": "code",
   "execution_count": 36,
   "metadata": {
    "id": "jcWfWfqwudCi"
   },
   "outputs": [],
   "source": [
    "import wandb\n",
    "import torch\n",
    "import torch.nn as nn\n",
    "import torch.optim as optim\n",
    "from torch.utils.data import DataLoader\n",
    "from sklearn.model_selection import train_test_split\n",
    "import segmentation_models_pytorch as smp\n",
    "from glob import glob\n",
    "\n",
    "\n",
    "def train():\n",
    "    wandb.init()\n",
    "    config = wandb.config\n",
    "\n",
    "    device = torch.device(\"cuda\" if torch.cuda.is_available() else \"cpu\")\n",
    "\n",
    "    X_train, X_test, y_train, y_test = train_test_split(image_paths, mask_paths, test_size=0.2, random_state=42)\n",
    "    X_train, X_val, y_train, y_val = train_test_split(X_train, y_train, test_size=0.1, random_state=42)\n",
    "\n",
    "\n",
    "\n",
    "    train_dataset = CustomDataset(X_train, y_train, transform=train_transform)\n",
    "    val_dataset = CustomDataset(X_val, y_val, transform=val_transform)\n",
    "\n",
    "    # train_dataset = CustomDataset(X_train, y_train)\n",
    "    # val_dataset = CustomDataset(X_val, y_val)\n",
    "\n",
    "    train_loader = DataLoader(train_dataset, batch_size=config.batch_size, shuffle=True, pin_memory=True)\n",
    "    val_loader = DataLoader(val_dataset, batch_size=config.batch_size, shuffle=False, pin_memory=True)\n",
    "\n",
    "\n",
    "    model = smp.Unet(\n",
    "        encoder_name=config.encoder_name,\n",
    "        encoder_weights=config.encoder_weights,\n",
    "        in_channels=3,\n",
    "        classes=1\n",
    "    ).to(device)\n",
    "\n",
    "\n",
    "    if config.optimizer == \"Adam\":\n",
    "        optimizer = optim.Adam(model.parameters(), lr=config.learning_rate)\n",
    "    elif config.optimizer == \"AdamW\":\n",
    "        optimizer = optim.AdamW(model.parameters(), lr=config.learning_rate)\n",
    "\n",
    "\n",
    "    criterion = smp.losses.DiceLoss(mode=\"binary\")\n",
    "\n",
    "    scheduler = optim.lr_scheduler.ReduceLROnPlateau(\n",
    "    optimizer, mode='min', factor=0.5, patience=2, verbose=True\n",
    ")\n",
    "\n",
    "    for epoch in range(11):\n",
    "        model.train()\n",
    "        total_loss = 0\n",
    "\n",
    "        for batch_features, batch_labels in train_loader:\n",
    "            batch_features, batch_labels = batch_features.to(device), batch_labels.to(device)\n",
    "\n",
    "            optimizer.zero_grad()\n",
    "            outputs = model(batch_features)\n",
    "            outputs = torch.sigmoid(outputs)\n",
    "\n",
    "            loss = criterion(outputs, batch_labels)\n",
    "            loss.backward()\n",
    "            optimizer.step()\n",
    "\n",
    "            total_loss += loss.item()\n",
    "\n",
    "        avg_loss = total_loss / len(train_loader)\n",
    "\n",
    "        model.eval()\n",
    "        val_loss = 0\n",
    "\n",
    "\n",
    "        with torch.no_grad():\n",
    "            for batch_features, batch_labels in val_loader:\n",
    "                batch_features, batch_labels = batch_features.to(device), batch_labels.to(device)\n",
    "\n",
    "                outputs = model(batch_features)\n",
    "                outputs = torch.sigmoid(outputs)\n",
    "\n",
    "                loss = criterion(outputs, batch_labels)\n",
    "                val_loss += loss.item()\n",
    "\n",
    "        avg_val_loss = val_loss / len(val_loader)\n",
    "\n",
    "        print(f\"Epoch {epoch+1} | Train Loss: {avg_loss:.4f} | Val Loss: {avg_val_loss:.4f}\")\n",
    "\n",
    "        wandb.log({\n",
    "            \"epoch\": epoch,\n",
    "            \"train_loss\": avg_loss,\n",
    "            \"val_loss\": avg_val_loss,\n",
    "        })\n",
    "\n",
    "        scheduler.step(avg_val_loss)\n"
   ]
  },
  {
   "cell_type": "code",
   "execution_count": 37,
   "metadata": {
    "colab": {
     "base_uri": "https://localhost:8080/",
     "height": 1000
    },
    "id": "r8aKIhvou5IG",
    "outputId": "f90c73bf-b215-4c13-f69d-6c2cdb258c7e"
   },
   "outputs": [
    {
     "name": "stdout",
     "output_type": "stream",
     "text": [
      "Create sweep with ID: vdc9zn0w\n",
      "Sweep URL: https://wandb.ai/iruos8805-amrita-vishwa-vidyapeetham/colon-polyp-segmentation-3/sweeps/vdc9zn0w\n"
     ]
    },
    {
     "name": "stderr",
     "output_type": "stream",
     "text": [
      "\u001b[34m\u001b[1mwandb\u001b[0m: Agent Starting Run: o44mokr9 with config:\n",
      "\u001b[34m\u001b[1mwandb\u001b[0m: \tbatch_size: 4\n",
      "\u001b[34m\u001b[1mwandb\u001b[0m: \tencoder_name: efficientnet-b4\n",
      "\u001b[34m\u001b[1mwandb\u001b[0m: \tencoder_weights: imagenet\n",
      "\u001b[34m\u001b[1mwandb\u001b[0m: \tlearning_rate: 0.0004666458211211015\n",
      "\u001b[34m\u001b[1mwandb\u001b[0m: \tmodel_architecture: Unet\n",
      "\u001b[34m\u001b[1mwandb\u001b[0m: \toptimizer: AdamW\n"
     ]
    },
    {
     "data": {
      "text/html": [
       "Tracking run with wandb version 0.19.11"
      ],
      "text/plain": [
       "<IPython.core.display.HTML object>"
      ]
     },
     "metadata": {},
     "output_type": "display_data"
    },
    {
     "data": {
      "text/html": [
       "Run data is saved locally in <code>/content/wandb/run-20250527_122516-o44mokr9</code>"
      ],
      "text/plain": [
       "<IPython.core.display.HTML object>"
      ]
     },
     "metadata": {},
     "output_type": "display_data"
    },
    {
     "data": {
      "text/html": [
       "Syncing run <strong><a href='https://wandb.ai/iruos8805-amrita-vishwa-vidyapeetham/colon-polyp-segmentation-3/runs/o44mokr9' target=\"_blank\">earnest-sweep-1</a></strong> to <a href='https://wandb.ai/iruos8805-amrita-vishwa-vidyapeetham/colon-polyp-segmentation-3' target=\"_blank\">Weights & Biases</a> (<a href='https://wandb.me/developer-guide' target=\"_blank\">docs</a>)<br>Sweep page: <a href='https://wandb.ai/iruos8805-amrita-vishwa-vidyapeetham/colon-polyp-segmentation-3/sweeps/vdc9zn0w' target=\"_blank\">https://wandb.ai/iruos8805-amrita-vishwa-vidyapeetham/colon-polyp-segmentation-3/sweeps/vdc9zn0w</a>"
      ],
      "text/plain": [
       "<IPython.core.display.HTML object>"
      ]
     },
     "metadata": {},
     "output_type": "display_data"
    },
    {
     "data": {
      "text/html": [
       " View project at <a href='https://wandb.ai/iruos8805-amrita-vishwa-vidyapeetham/colon-polyp-segmentation-3' target=\"_blank\">https://wandb.ai/iruos8805-amrita-vishwa-vidyapeetham/colon-polyp-segmentation-3</a>"
      ],
      "text/plain": [
       "<IPython.core.display.HTML object>"
      ]
     },
     "metadata": {},
     "output_type": "display_data"
    },
    {
     "data": {
      "text/html": [
       " View sweep at <a href='https://wandb.ai/iruos8805-amrita-vishwa-vidyapeetham/colon-polyp-segmentation-3/sweeps/vdc9zn0w' target=\"_blank\">https://wandb.ai/iruos8805-amrita-vishwa-vidyapeetham/colon-polyp-segmentation-3/sweeps/vdc9zn0w</a>"
      ],
      "text/plain": [
       "<IPython.core.display.HTML object>"
      ]
     },
     "metadata": {},
     "output_type": "display_data"
    },
    {
     "data": {
      "text/html": [
       " View run at <a href='https://wandb.ai/iruos8805-amrita-vishwa-vidyapeetham/colon-polyp-segmentation-3/runs/o44mokr9' target=\"_blank\">https://wandb.ai/iruos8805-amrita-vishwa-vidyapeetham/colon-polyp-segmentation-3/runs/o44mokr9</a>"
      ],
      "text/plain": [
       "<IPython.core.display.HTML object>"
      ]
     },
     "metadata": {},
     "output_type": "display_data"
    },
    {
     "name": "stderr",
     "output_type": "stream",
     "text": [
      "/usr/local/lib/python3.11/dist-packages/torch/optim/lr_scheduler.py:62: UserWarning: The verbose parameter is deprecated. Please use get_last_lr() to access the learning rate.\n",
      "  warnings.warn(\n"
     ]
    },
    {
     "name": "stdout",
     "output_type": "stream",
     "text": [
      "Epoch 1 | Train Loss: 0.7121 | Val Loss: 0.7212\n",
      "Epoch 2 | Train Loss: 0.6971 | Val Loss: 0.7181\n",
      "Epoch 3 | Train Loss: 0.6950 | Val Loss: 0.7153\n",
      "Epoch 4 | Train Loss: 0.6938 | Val Loss: 0.7133\n",
      "Epoch 5 | Train Loss: 0.6934 | Val Loss: 0.7169\n",
      "Epoch 6 | Train Loss: 0.6929 | Val Loss: 0.7121\n",
      "Epoch 7 | Train Loss: 0.6930 | Val Loss: 0.7150\n",
      "Epoch 8 | Train Loss: 0.6925 | Val Loss: 0.7151\n",
      "Epoch 9 | Train Loss: 0.6923 | Val Loss: 0.7132\n",
      "Epoch 10 | Train Loss: 0.6897 | Val Loss: 0.7125\n",
      "Epoch 11 | Train Loss: 0.6891 | Val Loss: 0.7128\n"
     ]
    },
    {
     "data": {
      "text/html": [],
      "text/plain": [
       "<IPython.core.display.HTML object>"
      ]
     },
     "metadata": {},
     "output_type": "display_data"
    },
    {
     "data": {
      "text/html": [
       "<br>    <style><br>        .wandb-row {<br>            display: flex;<br>            flex-direction: row;<br>            flex-wrap: wrap;<br>            justify-content: flex-start;<br>            width: 100%;<br>        }<br>        .wandb-col {<br>            display: flex;<br>            flex-direction: column;<br>            flex-basis: 100%;<br>            flex: 1;<br>            padding: 10px;<br>        }<br>    </style><br><div class=\"wandb-row\"><div class=\"wandb-col\"><h3>Run history:</h3><br/><table class=\"wandb\"><tr><td>epoch</td><td>▁▂▂▃▄▅▅▆▇▇█</td></tr><tr><td>train_loss</td><td>█▃▃▂▂▂▂▂▂▁▁</td></tr><tr><td>val_loss</td><td>█▆▄▂▅▁▃▃▂▁▂</td></tr></table><br/></div><div class=\"wandb-col\"><h3>Run summary:</h3><br/><table class=\"wandb\"><tr><td>epoch</td><td>10</td></tr><tr><td>train_loss</td><td>0.68907</td></tr><tr><td>val_loss</td><td>0.71284</td></tr></table><br/></div></div>"
      ],
      "text/plain": [
       "<IPython.core.display.HTML object>"
      ]
     },
     "metadata": {},
     "output_type": "display_data"
    },
    {
     "data": {
      "text/html": [
       " View run <strong style=\"color:#cdcd00\">earnest-sweep-1</strong> at: <a href='https://wandb.ai/iruos8805-amrita-vishwa-vidyapeetham/colon-polyp-segmentation-3/runs/o44mokr9' target=\"_blank\">https://wandb.ai/iruos8805-amrita-vishwa-vidyapeetham/colon-polyp-segmentation-3/runs/o44mokr9</a><br> View project at: <a href='https://wandb.ai/iruos8805-amrita-vishwa-vidyapeetham/colon-polyp-segmentation-3' target=\"_blank\">https://wandb.ai/iruos8805-amrita-vishwa-vidyapeetham/colon-polyp-segmentation-3</a><br>Synced 5 W&B file(s), 0 media file(s), 0 artifact file(s) and 0 other file(s)"
      ],
      "text/plain": [
       "<IPython.core.display.HTML object>"
      ]
     },
     "metadata": {},
     "output_type": "display_data"
    },
    {
     "data": {
      "text/html": [
       "Find logs at: <code>./wandb/run-20250527_122516-o44mokr9/logs</code>"
      ],
      "text/plain": [
       "<IPython.core.display.HTML object>"
      ]
     },
     "metadata": {},
     "output_type": "display_data"
    },
    {
     "name": "stderr",
     "output_type": "stream",
     "text": [
      "\u001b[34m\u001b[1mwandb\u001b[0m: Agent Starting Run: 6y0khrzk with config:\n",
      "\u001b[34m\u001b[1mwandb\u001b[0m: \tbatch_size: 4\n",
      "\u001b[34m\u001b[1mwandb\u001b[0m: \tencoder_name: efficientnet-b4\n",
      "\u001b[34m\u001b[1mwandb\u001b[0m: \tencoder_weights: imagenet\n",
      "\u001b[34m\u001b[1mwandb\u001b[0m: \tlearning_rate: 0.0007835222511551668\n",
      "\u001b[34m\u001b[1mwandb\u001b[0m: \tmodel_architecture: Unet\n",
      "\u001b[34m\u001b[1mwandb\u001b[0m: \toptimizer: AdamW\n"
     ]
    },
    {
     "data": {
      "text/html": [
       "Tracking run with wandb version 0.19.11"
      ],
      "text/plain": [
       "<IPython.core.display.HTML object>"
      ]
     },
     "metadata": {},
     "output_type": "display_data"
    },
    {
     "data": {
      "text/html": [
       "Run data is saved locally in <code>/content/wandb/run-20250527_123258-6y0khrzk</code>"
      ],
      "text/plain": [
       "<IPython.core.display.HTML object>"
      ]
     },
     "metadata": {},
     "output_type": "display_data"
    },
    {
     "data": {
      "text/html": [
       "Syncing run <strong><a href='https://wandb.ai/iruos8805-amrita-vishwa-vidyapeetham/colon-polyp-segmentation-3/runs/6y0khrzk' target=\"_blank\">neat-sweep-2</a></strong> to <a href='https://wandb.ai/iruos8805-amrita-vishwa-vidyapeetham/colon-polyp-segmentation-3' target=\"_blank\">Weights & Biases</a> (<a href='https://wandb.me/developer-guide' target=\"_blank\">docs</a>)<br>Sweep page: <a href='https://wandb.ai/iruos8805-amrita-vishwa-vidyapeetham/colon-polyp-segmentation-3/sweeps/vdc9zn0w' target=\"_blank\">https://wandb.ai/iruos8805-amrita-vishwa-vidyapeetham/colon-polyp-segmentation-3/sweeps/vdc9zn0w</a>"
      ],
      "text/plain": [
       "<IPython.core.display.HTML object>"
      ]
     },
     "metadata": {},
     "output_type": "display_data"
    },
    {
     "data": {
      "text/html": [
       " View project at <a href='https://wandb.ai/iruos8805-amrita-vishwa-vidyapeetham/colon-polyp-segmentation-3' target=\"_blank\">https://wandb.ai/iruos8805-amrita-vishwa-vidyapeetham/colon-polyp-segmentation-3</a>"
      ],
      "text/plain": [
       "<IPython.core.display.HTML object>"
      ]
     },
     "metadata": {},
     "output_type": "display_data"
    },
    {
     "data": {
      "text/html": [
       " View sweep at <a href='https://wandb.ai/iruos8805-amrita-vishwa-vidyapeetham/colon-polyp-segmentation-3/sweeps/vdc9zn0w' target=\"_blank\">https://wandb.ai/iruos8805-amrita-vishwa-vidyapeetham/colon-polyp-segmentation-3/sweeps/vdc9zn0w</a>"
      ],
      "text/plain": [
       "<IPython.core.display.HTML object>"
      ]
     },
     "metadata": {},
     "output_type": "display_data"
    },
    {
     "data": {
      "text/html": [
       " View run at <a href='https://wandb.ai/iruos8805-amrita-vishwa-vidyapeetham/colon-polyp-segmentation-3/runs/6y0khrzk' target=\"_blank\">https://wandb.ai/iruos8805-amrita-vishwa-vidyapeetham/colon-polyp-segmentation-3/runs/6y0khrzk</a>"
      ],
      "text/plain": [
       "<IPython.core.display.HTML object>"
      ]
     },
     "metadata": {},
     "output_type": "display_data"
    },
    {
     "name": "stdout",
     "output_type": "stream",
     "text": [
      "Epoch 1 | Train Loss: 0.7117 | Val Loss: 0.7233\n",
      "Epoch 2 | Train Loss: 0.6985 | Val Loss: 0.7148\n",
      "Epoch 3 | Train Loss: 0.6972 | Val Loss: 0.7190\n",
      "Epoch 4 | Train Loss: 0.6961 | Val Loss: 0.7178\n",
      "Epoch 5 | Train Loss: 0.6958 | Val Loss: 0.7137\n",
      "Epoch 6 | Train Loss: 0.6952 | Val Loss: 0.7152\n",
      "Epoch 7 | Train Loss: 0.6939 | Val Loss: 0.7163\n",
      "Epoch 8 | Train Loss: 0.6934 | Val Loss: 0.7144\n",
      "Epoch 9 | Train Loss: 0.6940 | Val Loss: 0.7128\n",
      "Epoch 10 | Train Loss: 0.6915 | Val Loss: 0.7141\n",
      "Epoch 11 | Train Loss: 0.6917 | Val Loss: 0.7143\n"
     ]
    },
    {
     "data": {
      "text/html": [],
      "text/plain": [
       "<IPython.core.display.HTML object>"
      ]
     },
     "metadata": {},
     "output_type": "display_data"
    },
    {
     "data": {
      "text/html": [
       "<br>    <style><br>        .wandb-row {<br>            display: flex;<br>            flex-direction: row;<br>            flex-wrap: wrap;<br>            justify-content: flex-start;<br>            width: 100%;<br>        }<br>        .wandb-col {<br>            display: flex;<br>            flex-direction: column;<br>            flex-basis: 100%;<br>            flex: 1;<br>            padding: 10px;<br>        }<br>    </style><br><div class=\"wandb-row\"><div class=\"wandb-col\"><h3>Run history:</h3><br/><table class=\"wandb\"><tr><td>epoch</td><td>▁▂▂▃▄▅▅▆▇▇█</td></tr><tr><td>train_loss</td><td>█▃▃▃▂▂▂▂▂▁▁</td></tr><tr><td>val_loss</td><td>█▂▅▄▂▃▃▂▁▂▂</td></tr></table><br/></div><div class=\"wandb-col\"><h3>Run summary:</h3><br/><table class=\"wandb\"><tr><td>epoch</td><td>10</td></tr><tr><td>train_loss</td><td>0.69174</td></tr><tr><td>val_loss</td><td>0.7143</td></tr></table><br/></div></div>"
      ],
      "text/plain": [
       "<IPython.core.display.HTML object>"
      ]
     },
     "metadata": {},
     "output_type": "display_data"
    },
    {
     "data": {
      "text/html": [
       " View run <strong style=\"color:#cdcd00\">neat-sweep-2</strong> at: <a href='https://wandb.ai/iruos8805-amrita-vishwa-vidyapeetham/colon-polyp-segmentation-3/runs/6y0khrzk' target=\"_blank\">https://wandb.ai/iruos8805-amrita-vishwa-vidyapeetham/colon-polyp-segmentation-3/runs/6y0khrzk</a><br> View project at: <a href='https://wandb.ai/iruos8805-amrita-vishwa-vidyapeetham/colon-polyp-segmentation-3' target=\"_blank\">https://wandb.ai/iruos8805-amrita-vishwa-vidyapeetham/colon-polyp-segmentation-3</a><br>Synced 5 W&B file(s), 0 media file(s), 0 artifact file(s) and 0 other file(s)"
      ],
      "text/plain": [
       "<IPython.core.display.HTML object>"
      ]
     },
     "metadata": {},
     "output_type": "display_data"
    },
    {
     "data": {
      "text/html": [
       "Find logs at: <code>./wandb/run-20250527_123258-6y0khrzk/logs</code>"
      ],
      "text/plain": [
       "<IPython.core.display.HTML object>"
      ]
     },
     "metadata": {},
     "output_type": "display_data"
    },
    {
     "name": "stderr",
     "output_type": "stream",
     "text": [
      "\u001b[34m\u001b[1mwandb\u001b[0m: Agent Starting Run: 529ljcev with config:\n",
      "\u001b[34m\u001b[1mwandb\u001b[0m: \tbatch_size: 8\n",
      "\u001b[34m\u001b[1mwandb\u001b[0m: \tencoder_name: efficientnet-b4\n",
      "\u001b[34m\u001b[1mwandb\u001b[0m: \tencoder_weights: imagenet\n",
      "\u001b[34m\u001b[1mwandb\u001b[0m: \tlearning_rate: 0.0005963885637295912\n",
      "\u001b[34m\u001b[1mwandb\u001b[0m: \tmodel_architecture: Unet\n",
      "\u001b[34m\u001b[1mwandb\u001b[0m: \toptimizer: AdamW\n"
     ]
    },
    {
     "data": {
      "text/html": [
       "Tracking run with wandb version 0.19.11"
      ],
      "text/plain": [
       "<IPython.core.display.HTML object>"
      ]
     },
     "metadata": {},
     "output_type": "display_data"
    },
    {
     "data": {
      "text/html": [
       "Run data is saved locally in <code>/content/wandb/run-20250527_124029-529ljcev</code>"
      ],
      "text/plain": [
       "<IPython.core.display.HTML object>"
      ]
     },
     "metadata": {},
     "output_type": "display_data"
    },
    {
     "data": {
      "text/html": [
       "Syncing run <strong><a href='https://wandb.ai/iruos8805-amrita-vishwa-vidyapeetham/colon-polyp-segmentation-3/runs/529ljcev' target=\"_blank\">visionary-sweep-3</a></strong> to <a href='https://wandb.ai/iruos8805-amrita-vishwa-vidyapeetham/colon-polyp-segmentation-3' target=\"_blank\">Weights & Biases</a> (<a href='https://wandb.me/developer-guide' target=\"_blank\">docs</a>)<br>Sweep page: <a href='https://wandb.ai/iruos8805-amrita-vishwa-vidyapeetham/colon-polyp-segmentation-3/sweeps/vdc9zn0w' target=\"_blank\">https://wandb.ai/iruos8805-amrita-vishwa-vidyapeetham/colon-polyp-segmentation-3/sweeps/vdc9zn0w</a>"
      ],
      "text/plain": [
       "<IPython.core.display.HTML object>"
      ]
     },
     "metadata": {},
     "output_type": "display_data"
    },
    {
     "data": {
      "text/html": [
       " View project at <a href='https://wandb.ai/iruos8805-amrita-vishwa-vidyapeetham/colon-polyp-segmentation-3' target=\"_blank\">https://wandb.ai/iruos8805-amrita-vishwa-vidyapeetham/colon-polyp-segmentation-3</a>"
      ],
      "text/plain": [
       "<IPython.core.display.HTML object>"
      ]
     },
     "metadata": {},
     "output_type": "display_data"
    },
    {
     "data": {
      "text/html": [
       " View sweep at <a href='https://wandb.ai/iruos8805-amrita-vishwa-vidyapeetham/colon-polyp-segmentation-3/sweeps/vdc9zn0w' target=\"_blank\">https://wandb.ai/iruos8805-amrita-vishwa-vidyapeetham/colon-polyp-segmentation-3/sweeps/vdc9zn0w</a>"
      ],
      "text/plain": [
       "<IPython.core.display.HTML object>"
      ]
     },
     "metadata": {},
     "output_type": "display_data"
    },
    {
     "data": {
      "text/html": [
       " View run at <a href='https://wandb.ai/iruos8805-amrita-vishwa-vidyapeetham/colon-polyp-segmentation-3/runs/529ljcev' target=\"_blank\">https://wandb.ai/iruos8805-amrita-vishwa-vidyapeetham/colon-polyp-segmentation-3/runs/529ljcev</a>"
      ],
      "text/plain": [
       "<IPython.core.display.HTML object>"
      ]
     },
     "metadata": {},
     "output_type": "display_data"
    },
    {
     "name": "stdout",
     "output_type": "stream",
     "text": [
      "Epoch 1 | Train Loss: 0.7082 | Val Loss: 0.7133\n",
      "Epoch 2 | Train Loss: 0.6901 | Val Loss: 0.7118\n",
      "Epoch 3 | Train Loss: 0.6921 | Val Loss: 0.7098\n",
      "Epoch 4 | Train Loss: 0.6886 | Val Loss: 0.7092\n",
      "Epoch 5 | Train Loss: 0.6870 | Val Loss: 0.7098\n",
      "Epoch 6 | Train Loss: 0.6868 | Val Loss: 0.7075\n",
      "Epoch 7 | Train Loss: 0.6896 | Val Loss: 0.7088\n",
      "Epoch 8 | Train Loss: 0.6883 | Val Loss: 0.7080\n",
      "Epoch 9 | Train Loss: 0.6859 | Val Loss: 0.7092\n",
      "Epoch 10 | Train Loss: 0.6854 | Val Loss: 0.7075\n",
      "Epoch 11 | Train Loss: 0.6842 | Val Loss: 0.7068\n"
     ]
    },
    {
     "data": {
      "text/html": [],
      "text/plain": [
       "<IPython.core.display.HTML object>"
      ]
     },
     "metadata": {},
     "output_type": "display_data"
    },
    {
     "data": {
      "text/html": [
       "<br>    <style><br>        .wandb-row {<br>            display: flex;<br>            flex-direction: row;<br>            flex-wrap: wrap;<br>            justify-content: flex-start;<br>            width: 100%;<br>        }<br>        .wandb-col {<br>            display: flex;<br>            flex-direction: column;<br>            flex-basis: 100%;<br>            flex: 1;<br>            padding: 10px;<br>        }<br>    </style><br><div class=\"wandb-row\"><div class=\"wandb-col\"><h3>Run history:</h3><br/><table class=\"wandb\"><tr><td>epoch</td><td>▁▂▂▃▄▅▅▆▇▇█</td></tr><tr><td>train_loss</td><td>█▃▃▂▂▂▃▂▂▁▁</td></tr><tr><td>val_loss</td><td>█▆▄▄▄▂▃▂▄▂▁</td></tr></table><br/></div><div class=\"wandb-col\"><h3>Run summary:</h3><br/><table class=\"wandb\"><tr><td>epoch</td><td>10</td></tr><tr><td>train_loss</td><td>0.68417</td></tr><tr><td>val_loss</td><td>0.70679</td></tr></table><br/></div></div>"
      ],
      "text/plain": [
       "<IPython.core.display.HTML object>"
      ]
     },
     "metadata": {},
     "output_type": "display_data"
    },
    {
     "data": {
      "text/html": [
       " View run <strong style=\"color:#cdcd00\">visionary-sweep-3</strong> at: <a href='https://wandb.ai/iruos8805-amrita-vishwa-vidyapeetham/colon-polyp-segmentation-3/runs/529ljcev' target=\"_blank\">https://wandb.ai/iruos8805-amrita-vishwa-vidyapeetham/colon-polyp-segmentation-3/runs/529ljcev</a><br> View project at: <a href='https://wandb.ai/iruos8805-amrita-vishwa-vidyapeetham/colon-polyp-segmentation-3' target=\"_blank\">https://wandb.ai/iruos8805-amrita-vishwa-vidyapeetham/colon-polyp-segmentation-3</a><br>Synced 5 W&B file(s), 0 media file(s), 0 artifact file(s) and 0 other file(s)"
      ],
      "text/plain": [
       "<IPython.core.display.HTML object>"
      ]
     },
     "metadata": {},
     "output_type": "display_data"
    },
    {
     "data": {
      "text/html": [
       "Find logs at: <code>./wandb/run-20250527_124029-529ljcev/logs</code>"
      ],
      "text/plain": [
       "<IPython.core.display.HTML object>"
      ]
     },
     "metadata": {},
     "output_type": "display_data"
    },
    {
     "name": "stderr",
     "output_type": "stream",
     "text": [
      "\u001b[34m\u001b[1mwandb\u001b[0m: Agent Starting Run: 4ipe8kz5 with config:\n",
      "\u001b[34m\u001b[1mwandb\u001b[0m: \tbatch_size: 4\n",
      "\u001b[34m\u001b[1mwandb\u001b[0m: \tencoder_name: resnet18\n",
      "\u001b[34m\u001b[1mwandb\u001b[0m: \tencoder_weights: imagenet\n",
      "\u001b[34m\u001b[1mwandb\u001b[0m: \tlearning_rate: 0.0003821393293562803\n",
      "\u001b[34m\u001b[1mwandb\u001b[0m: \tmodel_architecture: Unet\n",
      "\u001b[34m\u001b[1mwandb\u001b[0m: \toptimizer: Adam\n"
     ]
    },
    {
     "data": {
      "text/html": [
       "Tracking run with wandb version 0.19.11"
      ],
      "text/plain": [
       "<IPython.core.display.HTML object>"
      ]
     },
     "metadata": {},
     "output_type": "display_data"
    },
    {
     "data": {
      "text/html": [
       "Run data is saved locally in <code>/content/wandb/run-20250527_124736-4ipe8kz5</code>"
      ],
      "text/plain": [
       "<IPython.core.display.HTML object>"
      ]
     },
     "metadata": {},
     "output_type": "display_data"
    },
    {
     "data": {
      "text/html": [
       "Syncing run <strong><a href='https://wandb.ai/iruos8805-amrita-vishwa-vidyapeetham/colon-polyp-segmentation-3/runs/4ipe8kz5' target=\"_blank\">wise-sweep-4</a></strong> to <a href='https://wandb.ai/iruos8805-amrita-vishwa-vidyapeetham/colon-polyp-segmentation-3' target=\"_blank\">Weights & Biases</a> (<a href='https://wandb.me/developer-guide' target=\"_blank\">docs</a>)<br>Sweep page: <a href='https://wandb.ai/iruos8805-amrita-vishwa-vidyapeetham/colon-polyp-segmentation-3/sweeps/vdc9zn0w' target=\"_blank\">https://wandb.ai/iruos8805-amrita-vishwa-vidyapeetham/colon-polyp-segmentation-3/sweeps/vdc9zn0w</a>"
      ],
      "text/plain": [
       "<IPython.core.display.HTML object>"
      ]
     },
     "metadata": {},
     "output_type": "display_data"
    },
    {
     "data": {
      "text/html": [
       " View project at <a href='https://wandb.ai/iruos8805-amrita-vishwa-vidyapeetham/colon-polyp-segmentation-3' target=\"_blank\">https://wandb.ai/iruos8805-amrita-vishwa-vidyapeetham/colon-polyp-segmentation-3</a>"
      ],
      "text/plain": [
       "<IPython.core.display.HTML object>"
      ]
     },
     "metadata": {},
     "output_type": "display_data"
    },
    {
     "data": {
      "text/html": [
       " View sweep at <a href='https://wandb.ai/iruos8805-amrita-vishwa-vidyapeetham/colon-polyp-segmentation-3/sweeps/vdc9zn0w' target=\"_blank\">https://wandb.ai/iruos8805-amrita-vishwa-vidyapeetham/colon-polyp-segmentation-3/sweeps/vdc9zn0w</a>"
      ],
      "text/plain": [
       "<IPython.core.display.HTML object>"
      ]
     },
     "metadata": {},
     "output_type": "display_data"
    },
    {
     "data": {
      "text/html": [
       " View run at <a href='https://wandb.ai/iruos8805-amrita-vishwa-vidyapeetham/colon-polyp-segmentation-3/runs/4ipe8kz5' target=\"_blank\">https://wandb.ai/iruos8805-amrita-vishwa-vidyapeetham/colon-polyp-segmentation-3/runs/4ipe8kz5</a>"
      ],
      "text/plain": [
       "<IPython.core.display.HTML object>"
      ]
     },
     "metadata": {},
     "output_type": "display_data"
    },
    {
     "name": "stdout",
     "output_type": "stream",
     "text": [
      "Epoch 1 | Train Loss: 0.7161 | Val Loss: 0.7254\n",
      "Epoch 2 | Train Loss: 0.7039 | Val Loss: 0.7239\n",
      "Epoch 3 | Train Loss: 0.7024 | Val Loss: 0.7193\n",
      "Epoch 4 | Train Loss: 0.7012 | Val Loss: 0.7209\n",
      "Epoch 5 | Train Loss: 0.7021 | Val Loss: 0.7274\n",
      "Epoch 6 | Train Loss: 0.7029 | Val Loss: 0.7185\n",
      "Epoch 7 | Train Loss: 0.7007 | Val Loss: 0.7222\n",
      "Epoch 8 | Train Loss: 0.7000 | Val Loss: 0.7164\n",
      "Epoch 9 | Train Loss: 0.6978 | Val Loss: 0.7173\n",
      "Epoch 10 | Train Loss: 0.6997 | Val Loss: 0.7190\n",
      "Epoch 11 | Train Loss: 0.6987 | Val Loss: 0.7179\n"
     ]
    },
    {
     "data": {
      "text/html": [],
      "text/plain": [
       "<IPython.core.display.HTML object>"
      ]
     },
     "metadata": {},
     "output_type": "display_data"
    },
    {
     "data": {
      "text/html": [
       "<br>    <style><br>        .wandb-row {<br>            display: flex;<br>            flex-direction: row;<br>            flex-wrap: wrap;<br>            justify-content: flex-start;<br>            width: 100%;<br>        }<br>        .wandb-col {<br>            display: flex;<br>            flex-direction: column;<br>            flex-basis: 100%;<br>            flex: 1;<br>            padding: 10px;<br>        }<br>    </style><br><div class=\"wandb-row\"><div class=\"wandb-col\"><h3>Run history:</h3><br/><table class=\"wandb\"><tr><td>epoch</td><td>▁▂▂▃▄▅▅▆▇▇█</td></tr><tr><td>train_loss</td><td>█▃▃▂▃▃▂▂▁▂▁</td></tr><tr><td>val_loss</td><td>▇▆▃▄█▂▅▁▂▃▂</td></tr></table><br/></div><div class=\"wandb-col\"><h3>Run summary:</h3><br/><table class=\"wandb\"><tr><td>epoch</td><td>10</td></tr><tr><td>train_loss</td><td>0.69866</td></tr><tr><td>val_loss</td><td>0.71786</td></tr></table><br/></div></div>"
      ],
      "text/plain": [
       "<IPython.core.display.HTML object>"
      ]
     },
     "metadata": {},
     "output_type": "display_data"
    },
    {
     "data": {
      "text/html": [
       " View run <strong style=\"color:#cdcd00\">wise-sweep-4</strong> at: <a href='https://wandb.ai/iruos8805-amrita-vishwa-vidyapeetham/colon-polyp-segmentation-3/runs/4ipe8kz5' target=\"_blank\">https://wandb.ai/iruos8805-amrita-vishwa-vidyapeetham/colon-polyp-segmentation-3/runs/4ipe8kz5</a><br> View project at: <a href='https://wandb.ai/iruos8805-amrita-vishwa-vidyapeetham/colon-polyp-segmentation-3' target=\"_blank\">https://wandb.ai/iruos8805-amrita-vishwa-vidyapeetham/colon-polyp-segmentation-3</a><br>Synced 5 W&B file(s), 0 media file(s), 0 artifact file(s) and 0 other file(s)"
      ],
      "text/plain": [
       "<IPython.core.display.HTML object>"
      ]
     },
     "metadata": {},
     "output_type": "display_data"
    },
    {
     "data": {
      "text/html": [
       "Find logs at: <code>./wandb/run-20250527_124736-4ipe8kz5/logs</code>"
      ],
      "text/plain": [
       "<IPython.core.display.HTML object>"
      ]
     },
     "metadata": {},
     "output_type": "display_data"
    },
    {
     "name": "stderr",
     "output_type": "stream",
     "text": [
      "\u001b[34m\u001b[1mwandb\u001b[0m: Agent Starting Run: ui7pvnf8 with config:\n",
      "\u001b[34m\u001b[1mwandb\u001b[0m: \tbatch_size: 8\n",
      "\u001b[34m\u001b[1mwandb\u001b[0m: \tencoder_name: resnet18\n",
      "\u001b[34m\u001b[1mwandb\u001b[0m: \tencoder_weights: imagenet\n",
      "\u001b[34m\u001b[1mwandb\u001b[0m: \tlearning_rate: 0.00024615776950177723\n",
      "\u001b[34m\u001b[1mwandb\u001b[0m: \tmodel_architecture: Unet\n",
      "\u001b[34m\u001b[1mwandb\u001b[0m: \toptimizer: AdamW\n"
     ]
    },
    {
     "data": {
      "text/html": [
       "Tracking run with wandb version 0.19.11"
      ],
      "text/plain": [
       "<IPython.core.display.HTML object>"
      ]
     },
     "metadata": {},
     "output_type": "display_data"
    },
    {
     "data": {
      "text/html": [
       "Run data is saved locally in <code>/content/wandb/run-20250527_125155-ui7pvnf8</code>"
      ],
      "text/plain": [
       "<IPython.core.display.HTML object>"
      ]
     },
     "metadata": {},
     "output_type": "display_data"
    },
    {
     "data": {
      "text/html": [
       "Syncing run <strong><a href='https://wandb.ai/iruos8805-amrita-vishwa-vidyapeetham/colon-polyp-segmentation-3/runs/ui7pvnf8' target=\"_blank\">autumn-sweep-5</a></strong> to <a href='https://wandb.ai/iruos8805-amrita-vishwa-vidyapeetham/colon-polyp-segmentation-3' target=\"_blank\">Weights & Biases</a> (<a href='https://wandb.me/developer-guide' target=\"_blank\">docs</a>)<br>Sweep page: <a href='https://wandb.ai/iruos8805-amrita-vishwa-vidyapeetham/colon-polyp-segmentation-3/sweeps/vdc9zn0w' target=\"_blank\">https://wandb.ai/iruos8805-amrita-vishwa-vidyapeetham/colon-polyp-segmentation-3/sweeps/vdc9zn0w</a>"
      ],
      "text/plain": [
       "<IPython.core.display.HTML object>"
      ]
     },
     "metadata": {},
     "output_type": "display_data"
    },
    {
     "data": {
      "text/html": [
       " View project at <a href='https://wandb.ai/iruos8805-amrita-vishwa-vidyapeetham/colon-polyp-segmentation-3' target=\"_blank\">https://wandb.ai/iruos8805-amrita-vishwa-vidyapeetham/colon-polyp-segmentation-3</a>"
      ],
      "text/plain": [
       "<IPython.core.display.HTML object>"
      ]
     },
     "metadata": {},
     "output_type": "display_data"
    },
    {
     "data": {
      "text/html": [
       " View sweep at <a href='https://wandb.ai/iruos8805-amrita-vishwa-vidyapeetham/colon-polyp-segmentation-3/sweeps/vdc9zn0w' target=\"_blank\">https://wandb.ai/iruos8805-amrita-vishwa-vidyapeetham/colon-polyp-segmentation-3/sweeps/vdc9zn0w</a>"
      ],
      "text/plain": [
       "<IPython.core.display.HTML object>"
      ]
     },
     "metadata": {},
     "output_type": "display_data"
    },
    {
     "data": {
      "text/html": [
       " View run at <a href='https://wandb.ai/iruos8805-amrita-vishwa-vidyapeetham/colon-polyp-segmentation-3/runs/ui7pvnf8' target=\"_blank\">https://wandb.ai/iruos8805-amrita-vishwa-vidyapeetham/colon-polyp-segmentation-3/runs/ui7pvnf8</a>"
      ],
      "text/plain": [
       "<IPython.core.display.HTML object>"
      ]
     },
     "metadata": {},
     "output_type": "display_data"
    },
    {
     "name": "stdout",
     "output_type": "stream",
     "text": [
      "Epoch 1 | Train Loss: 0.7162 | Val Loss: 0.7215\n",
      "Epoch 2 | Train Loss: 0.7003 | Val Loss: 0.7173\n",
      "Epoch 3 | Train Loss: 0.6952 | Val Loss: 0.7158\n",
      "Epoch 4 | Train Loss: 0.6931 | Val Loss: 0.7125\n",
      "Epoch 5 | Train Loss: 0.6911 | Val Loss: 0.7135\n",
      "Epoch 6 | Train Loss: 0.6935 | Val Loss: 0.7138\n",
      "Epoch 7 | Train Loss: 0.6900 | Val Loss: 0.7107\n",
      "Epoch 8 | Train Loss: 0.6916 | Val Loss: 0.7094\n",
      "Epoch 9 | Train Loss: 0.6882 | Val Loss: 0.7101\n",
      "Epoch 10 | Train Loss: 0.6877 | Val Loss: 0.7115\n",
      "Epoch 11 | Train Loss: 0.6877 | Val Loss: 0.7162\n"
     ]
    },
    {
     "data": {
      "text/html": [],
      "text/plain": [
       "<IPython.core.display.HTML object>"
      ]
     },
     "metadata": {},
     "output_type": "display_data"
    },
    {
     "data": {
      "text/html": [
       "<br>    <style><br>        .wandb-row {<br>            display: flex;<br>            flex-direction: row;<br>            flex-wrap: wrap;<br>            justify-content: flex-start;<br>            width: 100%;<br>        }<br>        .wandb-col {<br>            display: flex;<br>            flex-direction: column;<br>            flex-basis: 100%;<br>            flex: 1;<br>            padding: 10px;<br>        }<br>    </style><br><div class=\"wandb-row\"><div class=\"wandb-col\"><h3>Run history:</h3><br/><table class=\"wandb\"><tr><td>epoch</td><td>▁▂▂▃▄▅▅▆▇▇█</td></tr><tr><td>train_loss</td><td>█▄▃▂▂▂▂▂▁▁▁</td></tr><tr><td>val_loss</td><td>█▆▅▃▃▄▂▁▁▂▅</td></tr></table><br/></div><div class=\"wandb-col\"><h3>Run summary:</h3><br/><table class=\"wandb\"><tr><td>epoch</td><td>10</td></tr><tr><td>train_loss</td><td>0.68774</td></tr><tr><td>val_loss</td><td>0.71615</td></tr></table><br/></div></div>"
      ],
      "text/plain": [
       "<IPython.core.display.HTML object>"
      ]
     },
     "metadata": {},
     "output_type": "display_data"
    },
    {
     "data": {
      "text/html": [
       " View run <strong style=\"color:#cdcd00\">autumn-sweep-5</strong> at: <a href='https://wandb.ai/iruos8805-amrita-vishwa-vidyapeetham/colon-polyp-segmentation-3/runs/ui7pvnf8' target=\"_blank\">https://wandb.ai/iruos8805-amrita-vishwa-vidyapeetham/colon-polyp-segmentation-3/runs/ui7pvnf8</a><br> View project at: <a href='https://wandb.ai/iruos8805-amrita-vishwa-vidyapeetham/colon-polyp-segmentation-3' target=\"_blank\">https://wandb.ai/iruos8805-amrita-vishwa-vidyapeetham/colon-polyp-segmentation-3</a><br>Synced 5 W&B file(s), 0 media file(s), 0 artifact file(s) and 0 other file(s)"
      ],
      "text/plain": [
       "<IPython.core.display.HTML object>"
      ]
     },
     "metadata": {},
     "output_type": "display_data"
    },
    {
     "data": {
      "text/html": [
       "Find logs at: <code>./wandb/run-20250527_125155-ui7pvnf8/logs</code>"
      ],
      "text/plain": [
       "<IPython.core.display.HTML object>"
      ]
     },
     "metadata": {},
     "output_type": "display_data"
    }
   ],
   "source": [
    "sweep_config = {\n",
    "    'method': 'bayes',\n",
    "    'metric': {'name': 'dice_loss', 'goal': 'minimize'},\n",
    "    'parameters': {\n",
    "        # 'epochs' : {'min':10, 'max': 30},\n",
    "        'learning_rate': {'min': 0.00009, 'max': 0.001,},\n",
    "        'batch_size': {'values': [4, 8, 16]},\n",
    "        'optimizer': {'values': [\"Adam\", \"AdamW\"]},\n",
    "        'encoder_name': {'values': [\"efficientnet-b4\", \"resnet18\"]},\n",
    "        'encoder_weights': {'values': [\"imagenet\"]},\n",
    "        # 'loss_function': \"DiceLoss\",\n",
    "        # 'threshold': {'min': 0.3, 'max': 0.7},\n",
    "        'model_architecture': {'values': [\"Unet\"]}\n",
    "    }\n",
    "}\n",
    "\n",
    "sweep_id = wandb.sweep(sweep_config, project=\"colon-polyp-segmentation-3\")\n",
    "wandb.agent(sweep_id, function=train,count = 5)\n"
   ]
  },
  {
   "cell_type": "markdown",
   "metadata": {
    "id": "hbpkWcvgU6Kn"
   },
   "source": [
    "TRAINING USING BEST PARAMS"
   ]
  },
  {
   "cell_type": "code",
   "execution_count": 38,
   "metadata": {
    "id": "bLNm54EeTzET"
   },
   "outputs": [],
   "source": [
    "# import wandb\n",
    "# import torch\n",
    "# import torch.nn as nn\n",
    "# import torch.optim as optim\n",
    "# from torch.utils.data import DataLoader\n",
    "# from sklearn.model_selection import train_test_split\n",
    "# from glob import glob\n",
    "# import segmentation_models_pytorch as smp\n",
    "# from torchmetrics.classification import JaccardIndex\n",
    "\n",
    "\n",
    "# device = torch.device(\"cuda\" if torch.cuda.is_available() else \"cpu\")\n",
    "\n",
    "# X_train, X_test, y_train, y_test = train_test_split(image_paths, mask_paths, test_size=0.2, random_state=42)\n",
    "\n",
    "# X_train, X_val, y_train, y_val = train_test_split(X_train, y_train, test_size=0.1, random_state=42)\n",
    "\n",
    "# train_dataset = CustomDataset(X_train, y_train)\n",
    "# val_dataset = CustomDataset(X_val, y_val)\n",
    "\n",
    "# train_loader = DataLoader(train_dataset, batch_size=8, shuffle=True, pin_memory=True)\n",
    "# val_loader = DataLoader(val_dataset, batch_size=8, shuffle=False, pin_memory=True)\n",
    "\n",
    "\n",
    "# model = smp.Unet(\n",
    "#     encoder_name= 'efficientnet-b4',\n",
    "#     encoder_weights= 'imagenet',\n",
    "#     in_channels=3,\n",
    "#     classes=1\n",
    "# ).to(device)\n",
    "\n",
    "# optimizer = optimizer = optim.Adam(model.parameters(), lr=0.0001)\n",
    "# criterion = smp.losses.DiceLoss(mode=\"binary\")\n",
    "\n",
    "\n",
    "\n",
    "# for epoch in range(11):\n",
    "#     model.train()\n",
    "#     total_loss = 0\n",
    "\n",
    "#     for batch_features, batch_labels in train_loader:\n",
    "#         batch_features, batch_labels = batch_features.to(device), batch_labels.to(device)\n",
    "\n",
    "#         optimizer.zero_grad()\n",
    "#         outputs = model(batch_features)\n",
    "#         outputs = torch.sigmoid(outputs)\n",
    "\n",
    "#         loss = criterion(outputs, batch_labels)\n",
    "#         loss.backward()\n",
    "#         optimizer.step()\n",
    "\n",
    "#         total_loss += loss.item()\n",
    "\n",
    "#     avg_loss = total_loss / len(train_loader)\n",
    "\n",
    "#     model.eval()\n",
    "\n",
    "#     val_loss = 0\n",
    "\n",
    "#     with torch.no_grad():\n",
    "#         for batch_features, batch_labels in val_loader:\n",
    "#             batch_features, batch_labels = batch_features.to(device), batch_labels.to(device)\n",
    "\n",
    "#             outputs = model(batch_features)\n",
    "#             outputs = torch.sigmoid(outputs)\n",
    "\n",
    "#             loss = criterion(outputs, batch_labels)\n",
    "#             val_loss += loss.item()\n",
    "\n",
    "#     avg_val_loss = val_loss / len(val_loader)\n",
    "\n",
    "#     print(f\"Epoch {epoch+1} | Train Loss: {avg_loss:.4f} | Val Loss: {avg_val_loss:.4f}\")\n"
   ]
  },
  {
   "cell_type": "code",
   "execution_count": 39,
   "metadata": {
    "id": "HUXptCNwraqs"
   },
   "outputs": [],
   "source": [
    "# torch.cuda.empty_cache()"
   ]
  },
  {
   "cell_type": "markdown",
   "metadata": {
    "id": "cDnHa7p3bjYF"
   },
   "source": [
    "Testing"
   ]
  },
  {
   "cell_type": "code",
   "execution_count": 40,
   "metadata": {
    "id": "y8XRTp2Yv4Ti"
   },
   "outputs": [],
   "source": [
    "    # test_dataset = CustomDataset(X_test, y_test)\n",
    "    # test_loader = DataLoader(test_dataset, batch_size=8, shuffle=False, pin_memory=True)"
   ]
  },
  {
   "cell_type": "code",
   "execution_count": 41,
   "metadata": {
    "id": "7Jk3bManjzL6"
   },
   "outputs": [],
   "source": [
    "# def compute_iou(preds, targets, eps=1e-7):\n",
    "#     intersection = (preds * targets).sum(dim=(1, 2, 3))\n",
    "#     union = ((preds + targets) >= 1).float().sum(dim=(1, 2, 3))\n",
    "#     iou = (intersection + eps) / (union + eps)\n",
    "#     return iou.mean().item()\n",
    "\n",
    "# def compute_dice(preds, targets, eps=1e-7):\n",
    "#     intersection = (preds * targets).sum(dim=(1, 2, 3))\n",
    "#     dice = (2. * intersection + eps) / (preds.sum(dim=(1, 2, 3)) + targets.sum(dim=(1, 2, 3)) + eps)\n",
    "#     return dice.mean().item()\n",
    "\n",
    "\n",
    "# model.eval()\n",
    "# ious, dices = [], []\n",
    "\n",
    "# with torch.no_grad():\n",
    "#     for batch_features, batch_labels in test_loader:\n",
    "#         batch_features, batch_labels = batch_features.to(device), batch_labels.to(device)\n",
    "\n",
    "#         outputs = model(batch_features)\n",
    "#         outputs = torch.sigmoid(outputs)\n",
    "#         binary_preds = (outputs > 0.5).float()\n",
    "#         binary_labels = (batch_labels > 0.5).float()\n",
    "\n",
    "#         ious.append(compute_iou(binary_preds, binary_labels))\n",
    "#         dices.append(compute_dice(binary_preds, binary_labels))\n",
    "\n",
    "# avg_iou = sum(ious) / len(ious)\n",
    "# avg_dice = sum(dices) / len(dices)\n",
    "\n",
    "# print(f\"Average IoU on test set: {avg_iou:.4f}\")\n",
    "# print(f\"Average Dice Score on test set: {avg_dice:.4f}\")\n"
   ]
  },
  {
   "cell_type": "code",
   "execution_count": 42,
   "metadata": {
    "id": "mrboBtiAmAj9"
   },
   "outputs": [],
   "source": [
    "# import matplotlib.pyplot as plt\n",
    "\n",
    "# # Number of examples to visualize\n",
    "# num_samples_to_plot = 5\n",
    "# count = 0\n",
    "\n",
    "# model.eval()\n",
    "\n",
    "# with torch.no_grad():\n",
    "#     for batch_features, batch_labels in test_loader:\n",
    "#         batch_features = batch_features.to(device)\n",
    "#         batch_labels = batch_labels.to(device)\n",
    "\n",
    "#         outputs = model(batch_features)\n",
    "#         outputs = torch.sigmoid(outputs)\n",
    "\n",
    "#         # Binarize predictions and labels\n",
    "#         binary_preds = (outputs > 0.5).float()\n",
    "#         binary_labels = (batch_labels > 0.5).float()\n",
    "\n",
    "#         for i in range(batch_features.shape[0]):\n",
    "#             if count >= num_samples_to_plot:\n",
    "#                 break\n",
    "\n",
    "#             image = batch_features[i].cpu().permute(1, 2, 0).numpy()\n",
    "#             gt_mask = binary_labels[i].cpu().squeeze().numpy()\n",
    "#             pred_mask = binary_preds[i].cpu().squeeze().numpy()\n",
    "\n",
    "#             plt.figure(figsize=(12, 4))\n",
    "\n",
    "#             plt.subplot(1, 3, 1)\n",
    "#             plt.imshow(image)\n",
    "#             plt.title(\"Original Image\")\n",
    "#             plt.axis('off')\n",
    "\n",
    "#             plt.subplot(1, 3, 2)\n",
    "#             plt.imshow(gt_mask, cmap='gray')\n",
    "#             plt.title(\"Ground Truth Mask\")\n",
    "#             plt.axis('off')\n",
    "\n",
    "#             plt.subplot(1, 3, 3)\n",
    "#             plt.imshow(pred_mask, cmap='gray')\n",
    "#             plt.title(\"Predicted Mask\")\n",
    "#             plt.axis('off')\n",
    "\n",
    "#             plt.tight_layout()\n",
    "#             plt.show()\n",
    "\n",
    "#             count += 1\n",
    "\n",
    "#         if count >= num_samples_to_plot:\n",
    "#             break\n"
   ]
  },
  {
   "cell_type": "code",
   "execution_count": 42,
   "metadata": {
    "id": "T2nhVDLQqnoH"
   },
   "outputs": [],
   "source": []
  },
  {
   "cell_type": "code",
   "execution_count": 42,
   "metadata": {
    "id": "FY5MrGTFgUTn"
   },
   "outputs": [],
   "source": []
  }
 ],
 "metadata": {
  "accelerator": "GPU",
  "colab": {
   "gpuType": "T4",
   "provenance": []
  },
  "kernelspec": {
   "display_name": "Python 3 (ipykernel)",
   "language": "python",
   "name": "python3"
  },
  "language_info": {
   "codemirror_mode": {
    "name": "ipython",
    "version": 3
   },
   "file_extension": ".py",
   "mimetype": "text/x-python",
   "name": "python",
   "nbconvert_exporter": "python",
   "pygments_lexer": "ipython3",
   "version": "3.12.4"
  }
 },
 "nbformat": 4,
 "nbformat_minor": 4
}
